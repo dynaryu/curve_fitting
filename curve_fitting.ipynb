{
 "cells": [
  {
   "cell_type": "code",
   "execution_count": 1,
   "metadata": {
    "collapsed": true
   },
   "outputs": [],
   "source": [
    "import pandas as pd\n",
    "import numpy as np\n",
    "import pandas as pd\n",
    "from scipy.optimize import curve_fit\n",
    "from scipy.stats import weibull_min, norm\n",
    "import matplotlib\n",
    "%matplotlib inline\n",
    "import matplotlib.pyplot as plt\n",
    "import StringIO"
   ]
  },
  {
   "cell_type": "code",
   "execution_count": 2,
   "metadata": {
    "collapsed": true
   },
   "outputs": [],
   "source": [
    "def vulnerability_weibull(x, alpha, beta):\n",
    "    \"\"\"Return vulnerability in Weibull CDF\n",
    "\n",
    "    Args:\n",
    "        x: 3sec gust wind speed at 10m height\n",
    "        alpha: parameter value used in defining vulnerability curve\n",
    "        beta: ditto\n",
    "\n",
    "    Returns: weibull_min.cdf(x, shape, loc=0, scale)\n",
    "\n",
    "    Note:\n",
    "\n",
    "        weibull_min.pdf = c/s * (x/s)**(c-1) * exp(-(x/s)**c)\n",
    "            c: shape, s: scale, loc=0\n",
    "\n",
    "        weibull_min.cdf = 1 - exp(-(x/s)**c)\n",
    "\n",
    "        while Australian wind vulnerability is defined as\n",
    "\n",
    "            DI = 1 - exp(-(x/exp(beta))**(1/alpha))\n",
    "\n",
    "        therefore:\n",
    "\n",
    "            s = exp(beta)\n",
    "            c = 1/alpha\n",
    "\n",
    "    \"\"\"\n",
    "    # convert alpha and beta to shape and scale respectively\n",
    "    shape = 1 / alpha\n",
    "    scale = np.exp(beta)\n",
    "\n",
    "    return weibull_min.cdf(x, shape, loc=0, scale=scale)\n"
   ]
  },
  {
   "cell_type": "code",
   "execution_count": 3,
   "metadata": {},
   "outputs": [],
   "source": [
    "alpha = 0.29\n",
    "beta = 4.3\n",
    "x = np.arange(30, 100, 5)\n",
    "y = norm.rvs(vulnerability_weibull(x, 0.29, 4.3), 0.02)"
   ]
  },
  {
   "cell_type": "markdown",
   "metadata": {},
   "source": [
    "# curve fitting \n",
    "(see https://docs.scipy.org/doc/scipy/reference/generated/scipy.optimize.curve_fit.html)"
   ]
  },
  {
   "cell_type": "code",
   "execution_count": 4,
   "metadata": {
    "collapsed": true
   },
   "outputs": [],
   "source": [
    "popt, pcov = curve_fit(vulnerability_weibull, x, y)"
   ]
  },
  {
   "cell_type": "code",
   "execution_count": 5,
   "metadata": {},
   "outputs": [
    {
     "name": "stdout",
     "output_type": "stream",
     "text": [
      "[ 0.28969912  4.29934219]\n"
     ]
    }
   ],
   "source": [
    "print(popt)"
   ]
  },
  {
   "cell_type": "code",
   "execution_count": 6,
   "metadata": {},
   "outputs": [
    {
     "data": {
      "text/plain": [
       "[<matplotlib.lines.Line2D at 0x11d212290>,\n",
       " <matplotlib.lines.Line2D at 0x11d212390>]"
      ]
     },
     "execution_count": 6,
     "metadata": {},
     "output_type": "execute_result"
    },
    {
     "data": {
      "image/png": "[encoded data removed]",
      "text/plain": [
       "<matplotlib.figure.Figure at 0x10fc75d50>"
      ]
     },
     "metadata": {},
     "output_type": "display_data"
    }
   ],
   "source": [
    "plt.plot(x, y, 'o',\n",
    "         x, vulnerability_weibull(x, *popt), '-')"
   ]
  },
  {
   "cell_type": "code",
   "execution_count": 7,
   "metadata": {
    "collapsed": true
   },
   "outputs": [],
   "source": [
    "data_txt = StringIO.StringIO(\"\"\"\n",
    " x,y\n",
    " 3.00000000e+01,   1.26012776e-02\n",
    " 3.50000000e+01,   1.04647208e-01\n",
    " 4.00000000e+01,   7.60000772e-02\n",
    " 4.50000000e+01,   1.75532660e-01\n",
    " 5.00000000e+01,   2.17267675e-01\n",
    " 5.50000000e+01,   2.81397933e-01\n",
    " 6.00000000e+01,   3.71576297e-01\n",
    " 6.50000000e+01,   4.81563805e-01\n",
    " 7.00000000e+01,   5.69408574e-01\n",
    " 7.50000000e+01,   6.21267003e-01\n",
    " 8.00000000e+01,   7.28203012e-01\n",
    " 8.50000000e+01,   8.05976384e-01\n",
    " 9.00000000e+01,   8.56258048e-01\n",
    " 9.50000000e+01,   9.41123476e-01\n",
    "\"\"\")"
   ]
  },
  {
   "cell_type": "code",
   "execution_count": 8,
   "metadata": {
    "collapsed": true
   },
   "outputs": [],
   "source": [
    "# you can read existing file directly \n",
    "# see pandas.read_csv (https://pandas.pydata.org/pandas-docs/version/0.21/generated/pandas.read_csv.html)\n",
    "data = pd.read_csv(data_txt)"
   ]
  },
  {
   "cell_type": "code",
   "execution_count": 9,
   "metadata": {},
   "outputs": [],
   "source": [
    "popt, pcov = curve_fit(vulnerability_weibull, x, y)"
   ]
  },
  {
   "cell_type": "code",
   "execution_count": 10,
   "metadata": {},
   "outputs": [
    {
     "name": "stdout",
     "output_type": "stream",
     "text": [
      "[ 0.28969912  4.29934219]\n"
     ]
    }
   ],
   "source": [
    "print(popt)"
   ]
  }
 ],
 "metadata": {
  "kernelspec": {
   "display_name": "Python [default]",
   "language": "python",
   "name": "python2"
  },
  "language_info": {
   "codemirror_mode": {
    "name": "ipython",
    "version": 2
   },
   "file_extension": ".py",
   "mimetype": "text/x-python",
   "name": "python",
   "nbconvert_exporter": "python",
   "pygments_lexer": "ipython2",
   "version": "2.7.13"
  }
 },
 "nbformat": 4,
 "nbformat_minor": 2
}
